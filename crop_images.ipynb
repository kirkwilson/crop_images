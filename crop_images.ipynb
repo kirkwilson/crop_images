{
  "nbformat": 4,
  "nbformat_minor": 0,
  "metadata": {
    "colab": {
      "provenance": [],
      "authorship_tag": "ABX9TyNarofxX7IW+pcPckCP1NEN",
      "include_colab_link": true
    },
    "kernelspec": {
      "name": "python3",
      "display_name": "Python 3"
    },
    "language_info": {
      "name": "python"
    }
  },
  "cells": [
    {
      "cell_type": "markdown",
      "metadata": {
        "id": "view-in-github",
        "colab_type": "text"
      },
      "source": [
        "<a href=\"https://colab.research.google.com/github/kirkwilson/crop_images/blob/main/crop_images.ipynb\" target=\"_parent\"><img src=\"https://colab.research.google.com/assets/colab-badge.svg\" alt=\"Open In Colab\"/></a>"
      ]
    },
    {
      "cell_type": "markdown",
      "source": [
        "done\n",
        "- user set crop variables\n",
        "- upload zip of images\n",
        "\n",
        "todo:\n",
        "- unzip images\n",
        "- crop images\n",
        "- compress new images\n",
        "- clean up old files\n",
        "- write readme\n",
        "\n",
        "compressed files\n",
        "\n",
        "Input will likely be a compressed folder of images. Planning to support both zip\n",
        "and 7z files. Will need to iterate through the `contents` folder and decompress.\n",
        "If any file is a PNG or JPEG will move the file to a working folder. Working folder files will then be cropped."
      ],
      "metadata": {
        "id": "DwkhzM-in1dB"
      }
    },
    {
      "cell_type": "code",
      "source": [
        "#@markdown (x, y) pixel coordinates of the top left crop rectangle.\n",
        "crop_anchor_x = 7 #@param {type:\"number\"}\n",
        "crop_anchor_y = 0 #@param {type:\"number\"}\n",
        "#@markdown ---\n",
        "#@markdown Crop area in pixels from `crop_anchor_y` down.\n",
        "crop_height = 10 #@param {type:\"number\"}\n",
        "#@markdown Crop area in pixels from `crop_anchor_x` right.\n",
        "crop_width = 10 #@param {type:\"number\"}"
      ],
      "metadata": {
        "id": "pXnHM3hQcXhO",
        "cellView": "form"
      },
      "execution_count": null,
      "outputs": []
    },
    {
      "cell_type": "code",
      "execution_count": null,
      "metadata": {
        "id": "HvqFkZ1Glmpv"
      },
      "outputs": [],
      "source": [
        "from collections import namedtuple\n",
        "from google.colab import files\n",
        "import os\n",
        "\n",
        "def is_int(input) -> int:\n",
        "  if not isinstance(input, int):\n",
        "    raise TypeError(f'{input} is not an integer.')\n",
        "  return input\n",
        "\n",
        "def is_positive(input) -> int:\n",
        "  if is_int(input):\n",
        "    if input < 0:\n",
        "      raise ValueError(f'{input} is not a positive number.')\n",
        "  return input\n",
        "\n",
        "def validate_input(input) -> int:\n",
        "  is_int(input)\n",
        "  is_positive(input)\n",
        "  return input\n",
        "\n",
        "def validate_coordinates(x, y) -> tuple[int, int]:\n",
        "  validate_input(x)\n",
        "  validate_input(y)\n",
        "  return (x, y)\n",
        "\n",
        "def get_point(x, y) -> tuple[int, int]:\n",
        "  validate_coordinates(x, y)\n",
        "  Point = namedtuple('Point', ['x', 'y'])\n",
        "  return Point(x, y)\n",
        "\n",
        "def upload_files() -> dict[str]:\n",
        "  uploaded = files.upload()\n",
        "  return uploaded.keys()\n",
        "\n",
        "def is_existing_file(path) -> tuple[str, bool, bool]:\n",
        "  IsExistingFile = namedtuple('ExistingFile', ['path', 'exists', 'is_file'])\n",
        "  return IsExistingFile(path, os.path.exists(path), os.path.isfile(path))\n",
        "\n",
        "def validate_is_existing_file(IsExistingFile) -> tuple[str, bool, bool]:\n",
        "  if not IsExistingFile.path:\n",
        "    error_message = ('No file path given. '\n",
        "                     'A path is required when creating a valid IsExistingFile.')\n",
        "    raise ValueError(error_message)\n",
        "  if not IsExistingFile.exists:\n",
        "    error_message = (f'Could not find \"{IsExistingFile.path}\". '\n",
        "                     'An existing file is requried for a valid IsExistingFile.')\n",
        "    raise FileNotFoundError(error_message)\n",
        "  if not IsExistingFile.is_file:\n",
        "    error_message = (f'\"{IsExistingFile.path}\" is not a file. '\n",
        "                    'File required to create a valid IsExistingFile.')\n",
        "    raise TypeError(error_message)\n",
        "  return IsExistingFile\n",
        "\n",
        "def is_valid_existing_file(path) -> tuple[str, bool, bool]:\n",
        "  IsExistingFile = is_existing_file(path)\n",
        "  validate_is_existing_file(IsExistingFile)\n",
        "  return IsExistingFile\n",
        "\n",
        "def split_basename(path) -> dict[dict[str, str]]:\n",
        "  if is_valid_existing_file(path):\n",
        "    filename, file_extension = os.path.splitext(path)\n",
        "    file_dict = {\n",
        "        path : {\n",
        "            'filename': filename,\n",
        "            'file_extension': file_extension}}\n",
        "  return file_dict"
      ]
    },
    {
      "cell_type": "code",
      "source": [
        "uploaded = upload_files()\n",
        "\n",
        "files = {}\n",
        "for upload in uploaded:\n",
        "  ExistingFile = is_existing_file(upload)\n",
        "  if all(ExistingFile):\n",
        "    uploaded_file = split_basename(ExistingFile.path)\n",
        "    files = files | uploaded_file\n",
        "\n",
        "print(files)"
      ],
      "metadata": {
        "id": "el2qrvtTw9Vi"
      },
      "execution_count": null,
      "outputs": []
    }
  ]
}