{
  "nbformat": 4,
  "nbformat_minor": 0,
  "metadata": {
    "colab": {
      "provenance": [],
      "authorship_tag": "ABX9TyNa2sD9N+rBW9ZvbMZN6kbf",
      "include_colab_link": true
    },
    "kernelspec": {
      "name": "python3",
      "display_name": "Python 3"
    },
    "language_info": {
      "name": "python"
    }
  },
  "cells": [
    {
      "cell_type": "markdown",
      "metadata": {
        "id": "view-in-github",
        "colab_type": "text"
      },
      "source": [
        "<a href=\"https://colab.research.google.com/github/kirkwilson/crop_images/blob/main/crop_images.ipynb\" target=\"_parent\"><img src=\"https://colab.research.google.com/assets/colab-badge.svg\" alt=\"Open In Colab\"/></a>"
      ]
    },
    {
      "cell_type": "markdown",
      "source": [
        "todo:\n",
        "- user set crop variables\n",
        "- upload zip of images\n",
        "- unzip images\n",
        "- crop images\n",
        "- compress new images\n",
        "- clean up old files\n",
        "- write readme"
      ],
      "metadata": {
        "id": "DwkhzM-in1dB"
      }
    },
    {
      "cell_type": "code",
      "source": [
        "#@markdown (x, y) pixel coordinates of the top left crop rectangle.\n",
        "crop_anchor_x = 7 #@param {type:\"number\"}\n",
        "crop_anchor_y = 0 #@param {type:\"number\"}\n",
        "#@markdown ---\n",
        "#@markdown Crop area in pixels from `crop_anchor_y` down.\n",
        "crop_height = 10 #@param {type:\"number\"}\n",
        "#@markdown Crop area in pixels from `crop_anchor_x` right.\n",
        "crop_width = 10 #@param {type:\"number\"}"
      ],
      "metadata": {
        "id": "pXnHM3hQcXhO",
        "cellView": "form"
      },
      "execution_count": null,
      "outputs": []
    },
    {
      "cell_type": "code",
      "execution_count": null,
      "metadata": {
        "id": "HvqFkZ1Glmpv"
      },
      "outputs": [],
      "source": [
        "from collections import namedtuple\n",
        "from google.colab import files\n",
        "\n",
        "def is_int(input) -> int:\n",
        "  if not isinstance(input, int):\n",
        "    raise TypeError(f'{input} is not an integer.')\n",
        "  return input\n",
        "\n",
        "def is_positive(input) -> int:\n",
        "  if is_int(input):\n",
        "    if input < 0:\n",
        "      raise ValueError(f'{input} is not a positive number.')\n",
        "  return input\n",
        "\n",
        "def validate_input(input) -> int:\n",
        "  is_int(input)\n",
        "  is_positive(input)\n",
        "  return input\n",
        "\n",
        "def validate_coordinates(x, y) -> tuple[int, int]:\n",
        "  validate_input(x)\n",
        "  validate_input(y)\n",
        "  return (x, y)\n",
        "\n",
        "def get_point(x, y) -> tuple[int, int]:\n",
        "  validate_coordinates(x, y)\n",
        "  Point = namedtuple('Point', ['x', 'y'])\n",
        "  return Point(x, y)\n",
        "\n",
        "def upload_files() -> dict[str]:\n",
        "  uploaded = files.upload()\n",
        "  return uploaded.keys()"
      ]
    },
    {
      "cell_type": "code",
      "source": [
        "print(upload_files())"
      ],
      "metadata": {
        "id": "el2qrvtTw9Vi"
      },
      "execution_count": null,
      "outputs": []
    }
  ]
}