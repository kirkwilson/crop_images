{
  "nbformat": 4,
  "nbformat_minor": 0,
  "metadata": {
    "colab": {
      "provenance": [],
      "authorship_tag": "ABX9TyNWHarb2IFHeEPHPxDd+Mkr",
      "include_colab_link": true
    },
    "kernelspec": {
      "name": "python3",
      "display_name": "Python 3"
    },
    "language_info": {
      "name": "python"
    }
  },
  "cells": [
    {
      "cell_type": "markdown",
      "metadata": {
        "id": "view-in-github",
        "colab_type": "text"
      },
      "source": [
        "<a href=\"https://colab.research.google.com/github/kirkwilson/trim_images/blob/main/trim_images.ipynb\" target=\"_parent\"><img src=\"https://colab.research.google.com/assets/colab-badge.svg\" alt=\"Open In Colab\"/></a>"
      ]
    },
    {
      "cell_type": "markdown",
      "source": [
        "todo:\n",
        "- user set crop variables\n",
        "- upload zip of images\n",
        "- unzip images\n",
        "- crop images\n",
        "- compress new images\n",
        "- clean up old files\n",
        "- write readme"
      ],
      "metadata": {
        "id": "DwkhzM-in1dB"
      }
    },
    {
      "cell_type": "code",
      "execution_count": null,
      "metadata": {
        "id": "HvqFkZ1Glmpv"
      },
      "outputs": [],
      "source": []
    }
  ]
}