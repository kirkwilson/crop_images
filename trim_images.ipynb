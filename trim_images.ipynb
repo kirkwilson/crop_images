{
  "nbformat": 4,
  "nbformat_minor": 0,
  "metadata": {
    "colab": {
      "provenance": [],
      "authorship_tag": "ABX9TyOzr0BVncEckz8Vo4XnNj+0",
      "include_colab_link": true
    },
    "kernelspec": {
      "name": "python3",
      "display_name": "Python 3"
    },
    "language_info": {
      "name": "python"
    }
  },
  "cells": [
    {
      "cell_type": "markdown",
      "metadata": {
        "id": "view-in-github",
        "colab_type": "text"
      },
      "source": [
        "<a href=\"https://colab.research.google.com/github/kirkwilson/trim_images/blob/main/trim_images.ipynb\" target=\"_parent\"><img src=\"https://colab.research.google.com/assets/colab-badge.svg\" alt=\"Open In Colab\"/></a>"
      ]
    },
    {
      "cell_type": "markdown",
      "source": [
        "todo:\n",
        "- user set crop variables\n",
        "- upload zip of images\n",
        "- unzip images\n",
        "- crop images\n",
        "- compress new images\n",
        "- clean up old files\n",
        "- write readme"
      ],
      "metadata": {
        "id": "DwkhzM-in1dB"
      }
    },
    {
      "cell_type": "code",
      "source": [
        "crop_anchor_x = 10.0 #@param {type:\"number\"}\n",
        "crop_anchor_y = 10.0 #@param {type:\"number\"}\n",
        "crop_height = 10.0 #@param {type:\"number\"}\n",
        "crop_width = 10.0 #@param {type:\"number\"}"
      ],
      "metadata": {
        "id": "pXnHM3hQcXhO"
      },
      "execution_count": null,
      "outputs": []
    },
    {
      "cell_type": "code",
      "execution_count": null,
      "metadata": {
        "id": "HvqFkZ1Glmpv"
      },
      "outputs": [],
      "source": [
        "from google.colab import files\n",
        "\n",
        "def upload_files():\n",
        "  uploaded = files.upload()\n",
        "  return uploaded.keys()"
      ]
    },
    {
      "cell_type": "code",
      "source": [
        "print(upload_files())"
      ],
      "metadata": {
        "id": "el2qrvtTw9Vi"
      },
      "execution_count": null,
      "outputs": []
    }
  ]
}