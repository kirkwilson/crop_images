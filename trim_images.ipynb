{
  "nbformat": 4,
  "nbformat_minor": 0,
  "metadata": {
    "colab": {
      "provenance": [],
      "authorship_tag": "ABX9TyMVHeC4JmEKMRIRlsuQCWny",
      "include_colab_link": true
    },
    "kernelspec": {
      "name": "python3",
      "display_name": "Python 3"
    },
    "language_info": {
      "name": "python"
    }
  },
  "cells": [
    {
      "cell_type": "markdown",
      "metadata": {
        "id": "view-in-github",
        "colab_type": "text"
      },
      "source": [
        "<a href=\"https://colab.research.google.com/github/kirkwilson/trim_images/blob/main/trim_images.ipynb\" target=\"_parent\"><img src=\"https://colab.research.google.com/assets/colab-badge.svg\" alt=\"Open In Colab\"/></a>"
      ]
    },
    {
      "cell_type": "markdown",
      "source": [
        "todo:\n",
        "- user set crop variables\n",
        "- upload zip of images\n",
        "- unzip images\n",
        "- crop images\n",
        "- compress new images\n",
        "- clean up old files\n",
        "- write readme"
      ],
      "metadata": {
        "id": "DwkhzM-in1dB"
      }
    },
    {
      "cell_type": "code",
      "source": [
        "#@markdown x,y pixel position of the top left rectangle corner to crop.\n",
        "crop_anchor_x = 0 #@param {type:\"number\"}\n",
        "crop_anchor_y = 0 #@param {type:\"number\"}\n",
        "#@markdown ---\n",
        "#@markdown Number of pixels from `crop_anchor_y` down.\n",
        "crop_height = 10 #@param {type:\"number\"}\n",
        "#@markdown Number of pixels from `crop_anchor_x` right.\n",
        "crop_width = 10 #@param {type:\"number\"}"
      ],
      "metadata": {
        "id": "pXnHM3hQcXhO"
      },
      "execution_count": null,
      "outputs": []
    },
    {
      "cell_type": "code",
      "execution_count": null,
      "metadata": {
        "id": "HvqFkZ1Glmpv"
      },
      "outputs": [],
      "source": [
        "from google.colab import files\n",
        "\n",
        "def is_int(input) -> int:\n",
        "  if not isinstance(input, int):\n",
        "    raise TypeError(f'{input} is not an integer.')\n",
        "  return input\n",
        "\n",
        "def validate_x_anchor(x) -> int:\n",
        "  try:\n",
        "    is_int(x)\n",
        "  except TypeError:\n",
        "    raise TypeError(f'Anchor x ({x}) position is not an integer.') from None\n",
        "  if x < 0:\n",
        "    raise ValueError(f'Anchor x ({x}) position cannot be negative.')\n",
        "  return x\n",
        "\n",
        "def validate_y_anchor(y) -> int:\n",
        "  try:\n",
        "    is_int(y)\n",
        "  except TypeError:\n",
        "    raise TypeError(f'Anchor y ({y}) position is not an integer.') from None\n",
        "  if y < 0:\n",
        "    raise ValueError(f'Anchor y ({y}) position cannot be negative.')\n",
        "  return y\n",
        "\n",
        "def upload_files() -> dict:\n",
        "  uploaded = files.upload()\n",
        "  return uploaded.keys()"
      ]
    },
    {
      "cell_type": "code",
      "source": [
        "print(upload_files())"
      ],
      "metadata": {
        "id": "el2qrvtTw9Vi"
      },
      "execution_count": null,
      "outputs": []
    }
  ]
}